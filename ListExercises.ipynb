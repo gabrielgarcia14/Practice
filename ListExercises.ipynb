{
 "cells": [
  {
   "cell_type": "markdown",
   "metadata": {},
   "source": [
    "### Ejercicio 1\n",
    "\n",
    "Desarrollar un programa que determine si en una lista no existen\n",
    "elementos repetidos.\n"
   ]
  },
  {
   "cell_type": "code",
   "execution_count": 2,
   "metadata": {},
   "outputs": [
    {
     "name": "stdout",
     "output_type": "stream",
     "text": [
      "True\n",
      "True\n"
     ]
    }
   ],
   "source": [
    "myList = [\"FI29\",\"FI29\",\"JM15\",\"FI28\"]\n",
    "\n",
    "def isRepeated(List):\n",
    "    flag = False\n",
    "    for i in range(len(myList)):\n",
    "        for j in range(i+1, len(myList)):\n",
    "            if myList[i] == myList[j]:\n",
    "                flag = True\n",
    "                break\n",
    "    return flag\n",
    "\n",
    "def isRepeatedV2(List):\n",
    "    uniqueItems = set(List)\n",
    "    return not (len(uniqueItems) == len(List))\n",
    "\n",
    "print(isRepeated(myList))\n",
    "print(isRepeatedV2(myList))"
   ]
  },
  {
   "cell_type": "markdown",
   "metadata": {},
   "source": [
    "### Ejercicio 2\n",
    "\n",
    "Desarrollar un programa que determine si un elemento de una lista es\n",
    "una cadena pal ́ındrome. Si la cadena existe debe imprimirla y si no\n",
    "existe debe imprimir ’No existe’."
   ]
  },
  {
   "cell_type": "code",
   "execution_count": 3,
   "metadata": {},
   "outputs": [
    {
     "name": "stdout",
     "output_type": "stream",
     "text": [
      "palindrome List: \n",
      "ana\n",
      "asa\n",
      "anitalavalatina\n",
      "reconocer\n",
      "Not palindrome List: \n",
      "No existe\n"
     ]
    }
   ],
   "source": [
    "palList = [\"ana\",\"asa\",\"anitalavalatina\",\"reconoCer\"]\n",
    "notPalList = [\"hola\", \"Mundo\"]\n",
    "\n",
    "#Pythonic way\n",
    "def isPalindrome(myList):\n",
    "    flag = False\n",
    "    for i in myList:\n",
    "        if i == i[::-1]:\n",
    "            flag = True\n",
    "            print(i)\n",
    "    if flag == False:\n",
    "        print(\"No existe\")\n",
    "    return flag\n",
    "\n",
    "#Normal way\n",
    "def isPalindromeV2(myList):\n",
    "    counter = 0\n",
    "    for i in myList:\n",
    "        flag = True\n",
    "        i = i.lower()\n",
    "        for j in range(len(i)//2):\n",
    "            if i[j] != i[-j-1]:\n",
    "                flag = False\n",
    "        if flag == True:\n",
    "            counter +=1   \n",
    "            print(i)\n",
    "    if counter == 0:\n",
    "        print(\"No existe\")\n",
    "        \n",
    "print(\"palindrome List: \")\n",
    "isPalindromeV2(palList)\n",
    "print(\"Not palindrome List: \")\n",
    "isPalindromeV2(notPalList)"
   ]
  },
  {
   "cell_type": "code",
   "execution_count": 4,
   "metadata": {},
   "outputs": [
    {
     "data": {
      "text/plain": [
       "True"
      ]
     },
     "execution_count": 4,
     "metadata": {},
     "output_type": "execute_result"
    }
   ],
   "source": [
    "# Recursive Palindrome\n",
    "word = \"reconocer\"\n",
    "def isPalindromeRecursive(word):\n",
    "    if len(word) < 2:\n",
    "        return True\n",
    "    else:\n",
    "        if word[0] != word[-1]:\n",
    "            return False\n",
    "        else: \n",
    "            return isPalindromeRecursive(word[1:-1])\n",
    "isPalindromeRecursive(word)"
   ]
  },
  {
   "cell_type": "markdown",
   "metadata": {},
   "source": [
    "\n",
    "### Ejercicio 3\n",
    "Desarrollar un programa que determine si en una lista se encuentra\n",
    "una cadena de caracteres con dos o m ́as vocales. Si la cadena existe\n",
    "debe imprimirla y si no existe debe imprimir ’No existe’."
   ]
  },
  {
   "cell_type": "code",
   "execution_count": 5,
   "metadata": {},
   "outputs": [
    {
     "name": "stdout",
     "output_type": "stream",
     "text": [
      "woorld\n"
     ]
    }
   ],
   "source": [
    "listaEjer3 = [\"hola\",\"pepe\",\"hEllO\",\"woorld\"]\n",
    "\n",
    "flag = False\n",
    "\n",
    "for i in listaEjer3:\n",
    "    counterV = 0\n",
    "    i = i.lower()\n",
    "    for j in range(len(i)):\n",
    "        if i[j] in \"aeiou\":\n",
    "            counterV += 1 \n",
    "            if counterV >=2:\n",
    "                flag = True\n",
    "                print(i)\n",
    "                break\n",
    "        else:\n",
    "            counterV = 0\n",
    "            \n",
    "if flag == False:\n",
    "    print(\"No existe\")"
   ]
  },
  {
   "cell_type": "markdown",
   "metadata": {},
   "source": [
    "### EJERCICIO 4\n",
    "\n",
    "Desarrollar un programa que determine si una lista es pal ́ındrome.\n",
    "Una lista es pal ́ındrome si el elemento en la posici ́on i es el mismo de\n",
    "la posici ́on n − 1 − i con n la longitud de la lista."
   ]
  },
  {
   "cell_type": "code",
   "execution_count": 7,
   "metadata": {},
   "outputs": [
    {
     "name": "stdout",
     "output_type": "stream",
     "text": [
      "True\n"
     ]
    }
   ],
   "source": [
    "listaEjer4 = [\"a\", \"n\", \"i\", \"t\", \"a\", \"l\", \"a\", \"v\", \"a\", \"l\", \"a\", \"t\", \"i\", \"n\", \"a\"]\n",
    "\n",
    "flag = True\n",
    "for i in range(len(listaEjer4)//2):\n",
    "    if listaEjer4[i] != listaEjer4[-i-1]:\n",
    "        flag = False\n",
    "        \n",
    "print(flag)\n",
    "    \n"
   ]
  },
  {
   "cell_type": "markdown",
   "metadata": {},
   "source": [
    "### EJERCICIO 5\n",
    "\n",
    "Desarrollar un programa que dadas dos listas determine que\n",
    "elementos tiene la primer lista que no tenga la segunda lista."
   ]
  },
  {
   "cell_type": "code",
   "execution_count": 8,
   "metadata": {},
   "outputs": [
    {
     "name": "stdout",
     "output_type": "stream",
     "text": [
      "[1, True, 'Perez']\n",
      "[1, True, 'Perez']\n"
     ]
    }
   ],
   "source": [
    "lista1 = [1, ' Hola', -12.3, True, \"Angie\", \"Perez\"]\n",
    "lista2 = [11, -12.3, ' Hola', False, \"Angie\"]\n",
    "#salida [1, True, 'Perez']\n",
    "\n",
    "# 1st way\n",
    "newList = []\n",
    "for i in lista1:\n",
    "    if i not in lista2: \n",
    "        newList.append(i)\n",
    "print(newList)\n",
    "\n",
    "# 2nd way\n",
    "newListV2 = [i for i in lista1 if i not in lista2]\n",
    "print(newListV2)"
   ]
  },
  {
   "cell_type": "markdown",
   "metadata": {},
   "source": [
    "### Ejercicio6\n",
    "\n",
    "Desarrollar un algoritmo que calcule el promedio de un arreglo de\n",
    "reales."
   ]
  },
  {
   "cell_type": "code",
   "execution_count": 9,
   "metadata": {},
   "outputs": [
    {
     "name": "stdout",
     "output_type": "stream",
     "text": [
      "Promedio array:  8.166666666666666\n",
      "Promedio:  8.166666666666666\n",
      "Promedio =  8.166666666666666\n"
     ]
    }
   ],
   "source": [
    "myArray = [10,5,8,7,9,10]\n",
    "\n",
    "### Primera manera\n",
    "\n",
    "print(\"Promedio array: \", sum(myArray)/len(myArray))\n",
    "\n",
    "### Segunda manera\n",
    "\n",
    "suma = 0\n",
    "items = 0\n",
    "for i in myArray:\n",
    "    suma += i\n",
    "    items += 1 \n",
    "\n",
    "print(\"Promedio: \", suma/items)\n",
    "\n",
    "### Tercera manera\n",
    "sumita = 0\n",
    "promedio = [sum(myArray)/len(myArray) for i in myArray][0]\n",
    "print(\"Promedio = \", promedio)"
   ]
  },
  {
   "cell_type": "markdown",
   "metadata": {},
   "source": [
    "### Ejercicio6\n",
    "\n",
    "Desarrollar un algoritmo que calcule el producto punto y el producto entre arrays de dos arreglos\n",
    "de números enteros (reales) de igual tamaño. \n"
   ]
  },
  {
   "cell_type": "code",
   "execution_count": 10,
   "metadata": {},
   "outputs": [
    {
     "name": "stdout",
     "output_type": "stream",
     "text": [
      "Producto entre arrays:  [10, 24, 10.0, 6.0, 1] \n",
      "Producto punto:  51.0\n"
     ]
    }
   ],
   "source": [
    "array1 = [2, 3, 2.5, 1.2, 1]\n",
    "array2 = [5, 8, 4, 5, 1]\n",
    "\n",
    "if len(array1) != len(array2):\n",
    "    print(\"Error, Los arreglos deben tener el mismo tamaño para aplicar producto punto entre ellos\")\n",
    "else:\n",
    "    array3 = [None]*len(array1)\n",
    "    suma = 0\n",
    "    for i in range(len(array3)):\n",
    "        array3[i] = array1[i]*array2[i]\n",
    "        suma += array3[i]\n",
    "    print(\"Producto entre arrays: \", array3, \"\\nProducto punto: \",suma)\n",
    "\n"
   ]
  }
 ],
 "metadata": {
  "kernelspec": {
   "display_name": "Python 3",
   "language": "python",
   "name": "python3"
  },
  "language_info": {
   "codemirror_mode": {
    "name": "ipython",
    "version": 3
   },
   "file_extension": ".py",
   "mimetype": "text/x-python",
   "name": "python",
   "nbconvert_exporter": "python",
   "pygments_lexer": "ipython3",
   "version": "3.8.5"
  }
 },
 "nbformat": 4,
 "nbformat_minor": 4
}
